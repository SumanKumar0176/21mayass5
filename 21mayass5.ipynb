{
 "cells": [
  {
   "cell_type": "code",
   "execution_count": null,
   "id": "1f7127e9-e5fc-4d66-8489-b0aa68e4e526",
   "metadata": {},
   "outputs": [],
   "source": [
    "\n",
    "1. What does an empty dictionary's code look like?\n",
    "Ans:\n",
    "An empty dictionary in Python is represented by an opening and closing curly braces {} without any key-value pairs.\n",
    "Here's an example of an empty dictionary:\n",
    "\n",
    "\n",
    "empty_dict = {}\n",
    "In this code snippet, empty_dict is an empty dictionary. It is a container that can store key-value pairs, but since \n",
    "it is empty, it doesn't contain any data initially. You can later add key-value pairs to the dictionary using assignment\n",
    " statements or other dictionary manipulation methods.\n",
    "\n"
   ]
  },
  {
   "cell_type": "code",
   "execution_count": null,
   "id": "e53205e2-52b6-4760-8844-d83c385be1a6",
   "metadata": {},
   "outputs": [],
   "source": [
    "2. What is the value of a dictionary value with the key 'foo' and the value 42?\n",
    "Ans:\n",
    "\n",
    "\n",
    "The value of a dictionary with the key 'foo' and the value 42 is simply 42. In a dictionary, values are associated with\n",
    " unique keys, allowing you to retrieve a value by providing its corresponding key. In this case, if you access the value \n",
    "associated with the key 'foo', you will get 42.\n",
    "\n",
    "Here's an example of a dictionary with the key 'foo' and the value 42:\n",
    "my_dict = {'foo': 42}\n",
    "To access the value associated with the key 'foo', you can use square brackets with the key inside:\n",
    "\n",
    "value = my_dict['foo']\n",
    "print(value)  # Output: 42\n",
    "\n"
   ]
  },
  {
   "cell_type": "code",
   "execution_count": null,
   "id": "77456f8d-3f82-4aab-ba4d-09f4d3ff7bd6",
   "metadata": {},
   "outputs": [],
   "source": [
    "\n",
    "\n",
    "3. What is the most significant distinction between a dictionary and a list?\n",
    "\n",
    "Ans:\n",
    "\n",
    "i.Lists are ordered collections accessed by index, while dictionaries are unordered collections accessed by keys.\n",
    "ii.Lists store elements sequentially, while dictionaries store elements as key-value pairs.\n",
    "iii.Lists are identified by their index position, while dictionaries are identified by their unique keys.\n",
    "iv.Lists allow duplicate elements, while dictionary keys must be unique.\n",
    "v.Lists are denoted by square brackets ([]), while dictionaries are denoted by curly braces ({}) or the dict() constructor.\n",
    "\n"
   ]
  },
  {
   "cell_type": "code",
   "execution_count": null,
   "id": "82fc760c-6e96-4f4f-8684-5309c1217ead",
   "metadata": {},
   "outputs": [],
   "source": [
    "\n",
    "\n",
    "\n",
    "\n",
    "4. What happens if you try to access spam['foo'] if spam is {'bar': 100}?\n",
    "Ans:\n",
    "If you try to access spam['foo'] when spam is {'bar': 100}, you will encounter a KeyError because the key 'foo' does not exist in the dictionary spam.\n",
    "\n",
    "In Python, when you attempt to access a non-existent key in a dictionary using the square bracket notation, it raises a KeyError exception.\n",
    "\n",
    "\n",
    "\n"
   ]
  },
  {
   "cell_type": "code",
   "execution_count": null,
   "id": "7cc580ae-851a-45e5-bcc9-50f07bfa8a2d",
   "metadata": {},
   "outputs": [],
   "source": [
    "\n",
    "\n",
    "5. If a dictionary is stored in spam, what is the difference between the expressions 'cat' in spam and\n",
    "'cat'in spam.keys()?\n",
    "\n",
    "Ans:\n",
    "\n",
    "The practical difference between these expressions lies in the fact that 'cat' in spam directly checks the keys of\n",
    " the dictionary, while 'cat' in spam.keys() checks the keys by converting them into a list. However, in terms of functionality, \n",
    "both expressions effectively determine if a given key exists in the dictionary.\n",
    "\n",
    "\n",
    "\n",
    "\n"
   ]
  },
  {
   "cell_type": "code",
   "execution_count": null,
   "id": "8f3aa03c-0632-4146-9519-173a2990cfe1",
   "metadata": {},
   "outputs": [],
   "source": [
    "\n",
    "\n",
    "\n",
    "\n",
    "\n",
    "6. If a dictionary is stored in spam, what is the difference between the expressions 'cat' in spam and\n",
    "'cat'in spam.values()?\n",
    "\n",
    "\n",
    "Ans:\n",
    "'cat' in spam checks if 'cat' is a key in the dictionary spam.\n",
    "'cat' in spam.values() checks if 'cat' is a value in the dictionary spam.\n",
    "\n"
   ]
  },
  {
   "cell_type": "code",
   "execution_count": null,
   "id": "5e8fb1ba-113b-46f2-a4cb-f58e477184fd",
   "metadata": {},
   "outputs": [],
   "source": [
    "\n",
    "\n",
    "7. What is a shortcut for the following code?\n",
    "if 'color' not in spam:\n",
    "spam['color'] = 'black'\n",
    "\n",
    "Ans:\n",
    "spam.setdefault('color', 'black')\n",
    "\n"
   ]
  },
  {
   "cell_type": "code",
   "execution_count": null,
   "id": "8f677259-fbe5-4546-955b-34261a6f3ba4",
   "metadata": {},
   "outputs": [],
   "source": [
    "\n",
    "\n",
    "\n",
    "8. How do you \"pretty print\" dictionary values using which module and function?\n",
    "\n",
    "\n",
    "Ans:\n",
    "To \"pretty print\" dictionary values in Python, you can use the pprint module and its pprint() function. \n",
    "The pprint module provides a way to format and display data structures, such as dictionaries, in a more\n",
    " readable and aesthetically pleasing manner.Here's an example of how to use pprint to pretty print dictionary values:\n",
    "import pprint\n",
    "\n",
    "spam = {'name': 'John', 'age': 25, 'city': 'New York'}\n",
    "pprint.pprint(spam)\n",
    "\n",
    "\n",
    "\n",
    "\n"
   ]
  },
  {
   "cell_type": "code",
   "execution_count": null,
   "id": "2a3eaf13-b05a-4416-8995-86b10838a126",
   "metadata": {},
   "outputs": [],
   "source": []
  }
 ],
 "metadata": {
  "kernelspec": {
   "display_name": "Python 3 (ipykernel)",
   "language": "python",
   "name": "python3"
  },
  "language_info": {
   "codemirror_mode": {
    "name": "ipython",
    "version": 3
   },
   "file_extension": ".py",
   "mimetype": "text/x-python",
   "name": "python",
   "nbconvert_exporter": "python",
   "pygments_lexer": "ipython3",
   "version": "3.10.6"
  }
 },
 "nbformat": 4,
 "nbformat_minor": 5
}
